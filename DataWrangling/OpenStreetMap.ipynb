{
 "cells": [
  {
   "cell_type": "markdown",
   "metadata": {},
   "source": [
    "# Open Street Map Data Analysis\n",
    "\n",
    "In this project, the ATMs and branches of the banks in Ankara, capital of Turkey are analyzed and inserted into SQL database.\n",
    "\n",
    "In order to create a database of branches and ATMs of banks in Ankara, three csv files need to be created which are banks.csv, branches.csv and atms.csv representing banks table in SQL, branches of banks table in SQL and ATMS of banks table in SQL, respectively. \n",
    "\n",
    "## Map Area\n",
    "\n",
    "The map is my hometown, so I am more interested in finding ATMs and Banks in the city.\n",
    "\n",
    "The osm file size is 281.3 MB which can be downloaded here : https://s3.amazonaws.com/metro-extracts.mapzen.com/ankara_turkey.osm.bz2\n",
    "\n",
    "\n",
    "## Problems Encountered in the Map\n",
    "\n",
    "According to the documantation in openstreetmap.org, the banks and atms exist in the data as amenities. The names of the banks can be different so that first of all the names of the banks are analyzed. \n",
    "\n",
    "The brances of banks are represented as amenity=bank in the dataset and ATMs are represented as amenity=atm.\n",
    "\n",
    "In order to analyze the problems in the dataset, I checked the distinct bank names.\n",
    "\n"
   ]
  },
  {
   "cell_type": "code",
   "execution_count": 126,
   "metadata": {
    "collapsed": true
   },
   "outputs": [],
   "source": [
    "import xml.etree.cElementTree as ET\n",
    "import pprint\n",
    "import re\n",
    "\n",
    "OSMFILE = \"ankara_turkey.osm\"\n",
    "\n"
   ]
  },
  {
   "cell_type": "code",
   "execution_count": 149,
   "metadata": {
    "collapsed": false
   },
   "outputs": [
    {
     "name": "stdout",
     "output_type": "stream",
     "text": [
      "\n",
      "deniz bank\n",
      "ingbank atm\n",
      "ziraat bankasi\n",
      "vakıfbank (atm)\n",
      "finansbank pursaklar\n",
      "ptt\n",
      "akbank atm\n",
      "akbank\n",
      "bank asya\n",
      "vakıf bank\n",
      "vakıfbank söğütözü şubesi\n",
      "tekstilbank\n",
      "finansbank atm\n",
      "halkbank\n",
      "türkiye iş bankası atm\n",
      "qnb finansbank\n",
      "şekerbank\n",
      "albaraka türk\n",
      "kuveyt türk\n",
      "turkiye is bankasi\n",
      "işbankası atm\n",
      "tc ziraat bankasi\n",
      "teb atm\n",
      "odeabank\n",
      "vakıfbank\n",
      "halkbankası atm\n",
      "albaraka\n",
      "işbankası (atm)\n",
      "abank\n",
      "halk banksı\n",
      "halkbank hüseyingazi şubesi\n",
      "teb\n",
      "cüzdanmatik\n",
      "emniyet md. ek bina\n",
      "akbank, tr-ankara\n",
      "yapı kredi leasing\n",
      "türkiye finans katılım bankası\n",
      "ziraat bankası güneşevler şubesi\n",
      "ykb atm\n",
      "garanti bankası atm\n",
      "yapıkredi atm\n",
      "iş b.\n",
      "garanti bankası\n",
      "yapı kredi bankası atm\n",
      "t.c. ziraat bankası a.ş.\n",
      "fibabanka\n",
      "garanti\n",
      "türkiye finans katılım\n",
      "burgan bank\n",
      "finans bank\n",
      "vakıfbank atm\n",
      "ing bank atm\n",
      "a bank\n",
      "ziraat b.\n",
      "yapı kredi bankası\n",
      "finansbank\n",
      "halkbankası (atm)\n",
      "yapi kredi\n",
      "yapı kredi bankası çukurambar şubesi\n",
      "ing bankası\n",
      "hsbc atm\n",
      "yapı kredi\n",
      "hsbc pursaklar\n",
      "t-bank\n",
      "garanti bankası (atm)\n",
      "ziraat bankası atm\n",
      "nakit yükleme noktası\n",
      "vakıfbank tpao şubesi\n",
      "akbank - yaşamkent şubesi\n",
      "yapıkredi bankası\n",
      "garanti atm\n",
      "kuveyt türk atm\n",
      "hsbc\n",
      "anadolubank\n",
      "ing atm\n",
      "finansbank (atm)\n",
      "ing bank\n",
      "akbank (atm)\n",
      "iş bankası\n",
      "garanti bank\n",
      "denizbank atm\n",
      "vakifbank\n",
      "yapıkredi\n",
      "ziraat atm\n",
      "garanti bankası - yaşmkent şubesi\n",
      "ak bank atm\n",
      "ziraat bankası pursaklar\n",
      "halkbank atm\n",
      "ziraat bankası\n",
      "ziraatbank atm\n",
      "iş bankası atm\n",
      "garanti bankasi\n",
      "türkiye iş bankası\n",
      "asya bank\n",
      "denizbank\n"
     ]
    }
   ],
   "source": [
    "def is_bank_branch(elem):\n",
    "    return (elem.attrib['k'] == \"amenity\" and elem.attrib['v'] == \"bank\")\n",
    "\n",
    "def is_bank_atm(elem):\n",
    "    return (elem.attrib['k'] == \"amenity\" and elem.attrib['v'] == \"atm\")\n",
    "\n",
    "bank_names = set()\n",
    "def distinct_bank_names(osm_file):\n",
    "    for event, elem in ET.iterparse(osm_file, events=(\"start\",)):\n",
    "        if elem.tag == \"node\":\n",
    "            name = \"\"\n",
    "            for tag in elem.iter(\"tag\"):\n",
    "                if tag.attrib['k'] == \"name\":\n",
    "                    name = tag.attrib['v']\n",
    "                if is_bank_branch(tag) or is_bank_atm(tag):\n",
    "                    bank_names.add(name.lower())\n",
    "    \n",
    "\n",
    "\n",
    "distinct_bank_names(OSMFILE)\n",
    "for name in bank_names:\n",
    "    print name"
   ]
  },
  {
   "cell_type": "markdown",
   "metadata": {},
   "source": [
    "When the names of the banks were analyzed, some problems are clearly seen in the dataset.\n",
    "\n",
    "- Some bank names are written in different formats. For example, Akbank is written in the forms of \"AKBANK\",\"Ak Bank\", \"Akbank\", \"Akbank - Ya\\u015famkent \\u015eubesi\". Those strings needed to be fixed to create a banks table in SQL which includes unique banks.\n",
    "\n",
    "- ATMs of banks are stated using \"ATM\" or \"(ATM)\" strings at the end of the bank names.  \n",
    "\n",
    "- Some of the banks changed their name over time, for example \"Finansbank\" is now \"QNB Finansbank\". Those changes need to be considered.\n",
    "\n",
    "- There are some names that do not represent a bank name, for example \"PTT\" which is national post and telegraph directorate in Turkey. Those need to be exclueded.\n",
    "\n",
    "- Abbreviated names are another problem, for example YKB for Yapi Kredi Bankasi.\n",
    "\n",
    "- Since the names of banks are in Turkish, some encoding problems occur.\n",
    "\n",
    "\n",
    "In order to solve those problems, I have created a expected bank names list which are all unicode and lower case. The names which are not included in the expected bank names list are updated using a dictionary which converts the problematic bank names to expected names.\n",
    "\n"
   ]
  },
  {
   "cell_type": "code",
   "execution_count": 339,
   "metadata": {
    "collapsed": false
   },
   "outputs": [],
   "source": [
    "#RegEx for getting the first part of the string\n",
    "# encoding=utf-8\n",
    "expected_bank_names = [\"denizbank\", \"ingbank\", \"ziraat bankası\", \"vakıfbank\", \"qnb finansbank\", \n",
    "                       \"akbank\", \"bank asya\", \"tekstilbank\", \"halkbank\", \"iş bankası\", \"şekerbank\",\n",
    "                       \"albaraka türk\", \"kuveyt türk\", \"teb\", \"odeabank\", \"abank\", \"türkiye finans katılım bankası\",\n",
    "                       \"garanti bankası\", \"yapı kredi\", \"fibabanka\", \"burgan bank\", \"hsbc\", \"t-bank\", \"anadolubank\"]\n",
    "\n",
    "bank_name_re = re.compile(r'\\S+\\b\\.?$', re.IGNORECASE)\n",
    "bank_name_mapping = {\n",
    "    \"deniz bank\" : \"denizbank\",\n",
    "    \"ingbank atm\" : \"ingbank\",\n",
    "    \"ziraat bankasi\" : \"ziraat bankasi\",\n",
    "    \"vakıfbank (atm)\" : \"vakifbank\",\n",
    "    \"finansbank pursaklar\" : \"qnb finansbank\",\n",
    "    \"akbank atm\" : \"akbank\",\n",
    "    \"vakıf bank\" : \"vakıfbank\",\n",
    "    \"vakıfbank söğütözü şubesi\": \"vakıfbank\",\n",
    "    \"finansbank atm\" : \"qnb finansbank\",\n",
    "    \"türkiye iş bankası atm\" : \"iş bankası\",\n",
    "    \"turkiye is bankasi\" : \"iş bankası\",\n",
    "    \"işbankası atm\" : \"iş bankası\",\n",
    "    \"tc ziraat bankasi\" : \"ziraat bankası\",\n",
    "    \"teb atm\" : \"teb\",\n",
    "    \"halkbankası atm\" : \"halkbank\",\n",
    "    \"albaraka\" : \"albaraka türk\",\n",
    "    \"işbankası (atm)\" : \"iş bankası\",\n",
    "    \"halk banksı\" : \"halkbank\",\n",
    "    \"halkbank hüseyingazi şubesi\" : \"halkbank\",\n",
    "    \"akbank, tr-ankara\" : \"akbank\",\n",
    "    \"yapı kredi leasing\" : \"yapı kredi\",\n",
    "    \"türkiye finans katılım bankası\" : \"qnb finansbank\",\n",
    "    \"ziraat bankası güneşevler şubesi\" : \"ziraat bankası\",\n",
    "    \"ykb atm\" : \"yapı kredi\",\n",
    "    \"garanti bankası atm\" : \"garanti bankası\",\n",
    "    \"yapıkredi atm\" : \"yapı kredi\",\n",
    "    \"iş b.\" : \"iş bankası\",\n",
    "    \"yapı kredi bankası atm\" :\"yapı kredi\",\n",
    "    \"t.c. ziraat bankası a.ş.\" : \"ziraat bankası\",\n",
    "    \"garanti\" : \"garanti bankası\",\n",
    "    \"türkiye finans katılım\" : \"qnb finansbank\",\n",
    "    \"finans bank\" : \"qnb finansbank\",\n",
    "    \"vakıfbank atm\": \"vakıfbank\",\n",
    "    \"ing bank atm\" : \"ingbank\",\n",
    "    \"a bank\" : \"abank\",\n",
    "    \"ziraat b.\" : \"ziraat bankası\",\n",
    "    \"yapı kredi bankası\" : \"yapı kredi\",\n",
    "    \"finansbank\" : \"qnb finansbank\",\n",
    "    \"halkbankası (atm)\" : \"halkbank\",\n",
    "    \"yapı kredi bankası çukurambar şubesi\" : \"yapı kredi\",\n",
    "    \"ing bankası\" : \"ingbank\",\n",
    "    \"hsbc atm\" : \"hsbc\",\n",
    "    \"hsbc pursaklar\": \"hsbc\",\n",
    "    \"garanti bankası (atm)\" : \"garanti bankası\",\n",
    "    \"ziraat bankası atm\" : \"ziraat bankası\",\n",
    "    \"vakıfbank tpao şubesi\": \"vakıfbank\",\n",
    "    \"akbank - yaşamkent şubesi\" :  \"akbank\",\n",
    "    \"yapıkredi bankası\" : \"yapı kredi\",\n",
    "    \"garanti atm\" : \"garanti bankası\",\n",
    "    \"kuveyt türk atm\" : \"kuveyt türk\",\n",
    "    \"ing atm\" : \"ingbank\",\n",
    "    \"finansbank (atm)\" : \"qnb finansbank\",\n",
    "    \"ing bank\" : \"ingbank\",\n",
    "    \"akbank (atm)\" :  \"akbank\",\n",
    "    \"iş bankası\" : \"iş bankası\",\n",
    "    \"garanti bank\" : \"garanti bankası\",\n",
    "    \"denizbank atm\" : \"denizbank\",\n",
    "    \"vakifbank\": \"vakıfbank\",\n",
    "    \"yapıkredi\" : \"yapı kredi\",\n",
    "    \"ziraat atm\" : \"ziraat bankası\",\n",
    "    \"garanti bankası - yaşmkent şubesi\" : \"garanti bankası\",\n",
    "    \"ak bank atm\" :  \"akbank\",\n",
    "    \"ziraat bankası pursaklar\" : \"ziraat bankası\",\n",
    "    \"halkbank atm\" : \"halkbank\",\n",
    "    \"ziraatbank atm\" : \"ziraat bankası\",\n",
    "    \"iş bankası atm\" : \"iş bankası\",\n",
    "    \"garanti bankasi\" : \"garanti bankası\",\n",
    "    \"türkiye iş bankası\" : \"iş bankası\",\n",
    "    \"asya bank\" : \"bank asya\",\n",
    "    \"denizbank\": \"denizbank\",\n",
    "    \"yapi kredi\" : \"yapı kredi\",\n",
    "    \"garanti\":\"garanti bankası\"\n",
    "\n",
    "}\n",
    "\n",
    "def convert_unicode_if_not(strn):\n",
    "    if strn == None:\n",
    "        return None\n",
    "    elif isinstance(strn, unicode):\n",
    "        return strn\n",
    "    else:\n",
    "        return unicode(strn, 'utf-8')\n",
    "    \n",
    "def update_bank_name(name):\n",
    "    converted_name = convert_unicode_if_not(name).lower()\n",
    "    if converted_name in [convert_unicode_if_not(x).lower() for x in expected_bank_names]:\n",
    "        return converted_name\n",
    "    elif converted_name in [x.decode('utf-8') for x in bank_name_mapping.keys()]:\n",
    "        return bank_name_mapping[converted_name.encode('utf-8')]\n",
    "\n"
   ]
  },
  {
   "cell_type": "markdown",
   "metadata": {},
   "source": [
    "### Converting bank names to unicode for matching\n",
    "\n",
    "There are both unicode and non-unicode strings in the dataset. Therefore the non-unicode strings need to be converted and unicode strings shall remain the same.\n",
    "\n",
    "\n",
    "\n",
    "```\n",
    "def convert_unicode_if_not(strn):\n",
    "    if strn == None:\n",
    "        return None\n",
    "    elif isinstance(strn, unicode):\n",
    "        return strn\n",
    "    else:\n",
    "        return unicode(strn, 'utf-8')\n",
    "```"
   ]
  },
  {
   "cell_type": "markdown",
   "metadata": {},
   "source": [
    "### Updating bank names \n",
    "\n",
    "Bank names are converted to proper names of the banks using the expected bank names list.\n",
    "\n",
    "\n",
    "```\n",
    "def update_bank_name(name):\n",
    "    converted_name = convert_unicode_if_not(name).lower()\n",
    "    if converted_name in [convert_unicode_if_not(x).lower() for x in expected_bank_names]:\n",
    "        return converted_name\n",
    "    elif converted_name in [x.decode('utf-8') for x in bank_name_mapping.keys()]:\n",
    "        return bank_name_mapping[converted_name.encode('utf-8')]\n",
    "\n",
    "```"
   ]
  },
  {
   "cell_type": "markdown",
   "metadata": {},
   "source": [
    "## Creating csv files\n",
    "\n",
    "\n",
    "After developing converting mechanism, the csv files are generated to seed the data into SQL database.\n"
   ]
  },
  {
   "cell_type": "code",
   "execution_count": 365,
   "metadata": {
    "collapsed": false
   },
   "outputs": [],
   "source": [
    "import csv\n",
    "\n",
    "def create_csv(arr, headers, path):\n",
    "    with open(path, 'wb') as csvfile:\n",
    "        writer = csv.DictWriter(csvfile, fieldnames = headers, delimiter = ',')\n",
    "        writer.writeheader()\n",
    "        for el in arr:\n",
    "            writer.writerow(el)\n",
    "            \n",
    "            \n",
    "\n",
    "BANKS_PATH = \"banks.csv\"\n",
    "BRANCHES_PATH = \"branches.csv\"\n",
    "ATMS_PATH = \"atms.csv\"\n",
    "\n",
    "atms = {}\n",
    "\n",
    "BANKS_FIELDS = ['id', 'name']\n",
    "BRANCH_FIELDS = ['id', 'bank_id', 'latitude', 'longitude', 'changeset', 'uid', 'timestamp', 'version']\n",
    "ATM_FIELDS = ['id', 'bank_id', 'latitude', 'longitude', 'changeset', 'uid', 'timestamp', 'version']\n",
    "\n",
    "# BANKS\n",
    "banks = list()\n",
    "\n",
    "def fill_banks():\n",
    "    for idx, name in enumerate(expected_bank_names):\n",
    "        bank = {}\n",
    "        bank['name'] = name\n",
    "        bank['id'] = idx\n",
    "        banks.append(bank)\n",
    "        \n",
    "        \n",
    "def find_bank_id_by_name(name):\n",
    "    for bank in banks:\n",
    "        if bank['name'].decode(\"utf-8\") == convert_unicode_if_not(name):\n",
    "            return bank['id']\n",
    "    return None\n",
    "\n",
    "fill_banks()          \n",
    "create_csv(banks, BANKS_FIELDS, BANKS_PATH)\n",
    "\n"
   ]
  },
  {
   "cell_type": "code",
   "execution_count": 366,
   "metadata": {
    "collapsed": false
   },
   "outputs": [],
   "source": [
    "# BRANCHES\n",
    "branches = list()\n",
    "\n",
    "def fill_branches(osm_file):\n",
    "    idx = 0\n",
    "    for event, elem in ET.iterparse(osm_file, events=(\"start\",)):\n",
    "        if elem.tag == \"node\":\n",
    "            branch = {}\n",
    "            name = \"\"\n",
    "            for tag in elem.iter(\"tag\"):\n",
    "                if tag.attrib['k'] == \"name\":\n",
    "                    name = tag.attrib['v']\n",
    "                if is_bank_branch(tag):\n",
    "                    if find_bank_id_by_name(update_bank_name(name)) == None:\n",
    "                        continue\n",
    "                    branch['id'] = idx\n",
    "                    branch['bank_id'] = find_bank_id_by_name(update_bank_name(name))\n",
    "                    branch['latitude'] = elem.attrib['lat']\n",
    "                    branch['longitude'] = elem.attrib['lon']\n",
    "                    branch['version'] = elem.attrib['version']\n",
    "                    branch['timestamp'] = elem.attrib['timestamp']\n",
    "                    branch['changeset'] = elem.attrib['changeset']\n",
    "                    branch['uid'] = elem.attrib['uid']\n",
    "                    branches.append(branch)\n",
    "                    idx += 1\n",
    "\n",
    "fill_branches(OSMFILE)\n",
    "create_csv(branches, BRANCH_FIELDS, BRANCHES_PATH)"
   ]
  },
  {
   "cell_type": "code",
   "execution_count": 367,
   "metadata": {
    "collapsed": false
   },
   "outputs": [],
   "source": [
    "# ATMS\n",
    "atms = list()\n",
    "\n",
    "def fill_atms(osm_file):\n",
    "    idx = 0\n",
    "    for event, elem in ET.iterparse(osm_file, events=(\"start\",)):\n",
    "        if elem.tag == \"node\":\n",
    "            atm = {}\n",
    "            name = \"\"\n",
    "            for tag in elem.iter(\"tag\"):\n",
    "                if tag.attrib['k'] == \"name\":\n",
    "                    name = tag.attrib['v']\n",
    "                if is_bank_atm(tag):\n",
    "                    if find_bank_id_by_name(update_bank_name(name)) == None:\n",
    "                        continue\n",
    "                    atm['id'] = idx\n",
    "                    atm['bank_id'] = find_bank_id_by_name(update_bank_name(name))\n",
    "                    atm['latitude'] = elem.attrib['lat']\n",
    "                    atm['longitude'] = elem.attrib['lon']\n",
    "                    atm['version'] = elem.attrib['version']\n",
    "                    atm['timestamp'] = elem.attrib['timestamp']\n",
    "                    atm['changeset'] = elem.attrib['changeset']\n",
    "                    atm['uid'] = elem.attrib['uid']\n",
    "                    atms.append(atm)\n",
    "                    idx += 1\n",
    "\n",
    "fill_atms(OSMFILE)\n",
    "create_csv(atms, ATM_FIELDS, ATMS_PATH)"
   ]
  },
  {
   "cell_type": "markdown",
   "metadata": {},
   "source": [
    "## Seeding to SQL\n",
    "\n",
    "### Creating tables\n"
   ]
  },
  {
   "cell_type": "code",
   "execution_count": 370,
   "metadata": {
    "collapsed": false
   },
   "outputs": [
    {
     "data": {
      "text/plain": [
       "<sqlite3.Cursor at 0x7f7be7d2e9d0>"
      ]
     },
     "execution_count": 370,
     "metadata": {},
     "output_type": "execute_result"
    }
   ],
   "source": [
    "import sqlite3\n",
    "\n",
    "banks_table_create_q = \" CREATE TABLE banks ( id INTEGER PRIMARY KEY NOT NULL, name TEXT);\"\n",
    "branches_table_create_q = \"CREATE TABLE branches (id INTEGER PRIMARY KEY NOT NULL, bank_id INTEGER, latitude REAL, longitude REAL, uid INTEGER, version INTEGER, changeset INTEGER, timestamp TEXT, FOREIGN KEY (bank_id) REFERENCES banks(id));\"\n",
    "atms_table_create_q = \"CREATE TABLE atms (id INTEGER PRIMARY KEY NOT NULL, bank_id INTEGER, latitude REAL, longitude REAL, uid INTEGER, version INTEGER, changeset INTEGER, timestamp TEXT, FOREIGN KEY (bank_id) REFERENCES banks(id));\"\n",
    "\n",
    "con = sqlite3.connect(\"osm_bank_locations.db\")\n",
    "cur = con.cursor()\n",
    "cur.execute(banks_table_create_q) \n",
    "cur.execute(branches_table_create_q) \n",
    "cur.execute(atms_table_create_q)\n",
    "\n"
   ]
  },
  {
   "cell_type": "markdown",
   "metadata": {},
   "source": [
    "### Seeding the CSVs to DB\n"
   ]
  },
  {
   "cell_type": "code",
   "execution_count": 371,
   "metadata": {
    "collapsed": false
   },
   "outputs": [],
   "source": [
    "import pandas\n",
    "\n",
    "con.text_factory = lambda x: unicode(x, 'utf-8', 'ignore')\n",
    "\n",
    "df = pandas.read_csv(BANKS_PATH)\n",
    "df.to_sql(\"banks\", con, if_exists='append', index=False)\n",
    "\n",
    "df = pandas.read_csv(BRANCHES_PATH)\n",
    "df.to_sql(\"branches\", con, if_exists='append', index=False)\n",
    "\n",
    "df = pandas.read_csv(ATMS_PATH)\n",
    "df.to_sql(\"atms\", con, if_exists='append', index=False)"
   ]
  },
  {
   "cell_type": "markdown",
   "metadata": {},
   "source": [
    "## Queries to SQL db\n",
    "\n",
    "\n",
    "### Number of Banks, ATMs and Branches\n",
    "\n"
   ]
  },
  {
   "cell_type": "code",
   "execution_count": 378,
   "metadata": {
    "collapsed": false
   },
   "outputs": [
    {
     "name": "stdout",
     "output_type": "stream",
     "text": [
      "Number of banks : (24,)\n",
      "Number of atms : (110,)\n",
      "Number of branches : (338,)\n"
     ]
    }
   ],
   "source": [
    "\n",
    "count_cursor = con.execute(\"Select count(*) from banks;\")\n",
    "\n",
    "for row in count_cursor:\n",
    "    print \"Number of banks : \" + str(row)\n",
    "    \n",
    "count_cursor = con.execute(\"Select count(*) from atms;\")\n",
    "\n",
    "for row in count_cursor:\n",
    "    print \"Number of atms : \" + str(row)  \n",
    "    \n",
    "count_cursor = con.execute(\"Select count(*) from branches;\")\n",
    "\n",
    "for row in count_cursor:\n",
    "    print \"Number of branches : \" + str(row) "
   ]
  },
  {
   "cell_type": "markdown",
   "metadata": {},
   "source": [
    "### Banks with most branches and ATMs in Ankara\n",
    "\n",
    "According to Openmaps dataset the bank with most branches is Ziraat Bankası. The banks with most ATMs is İş Bankası in Ankara.\n",
    "\n"
   ]
  },
  {
   "cell_type": "code",
   "execution_count": 400,
   "metadata": {
    "collapsed": false
   },
   "outputs": [
    {
     "name": "stdout",
     "output_type": "stream",
     "text": [
      "u'ziraat bankas\\u0131 : 49'\n",
      "u'i\\u015f bankas\\u0131 : 41'\n",
      "u'akbank : 32'\n",
      "u'qnb finansbank : 31'\n",
      "u'garanti bankas\\u0131 : 29'\n",
      "u'yap\\u0131 kredi : 29'\n",
      "u'vak\\u0131fbank : 28'\n",
      "u'halkbank : 21'\n",
      "u'denizbank : 15'\n",
      "u'teb : 13'\n",
      "u'hsbc : 10'\n",
      "u'ingbank : 9'\n",
      "u'\\u015fekerbank : 9'\n",
      "u'kuveyt t\\xfcrk : 6'\n",
      "u'albaraka t\\xfcrk : 4'\n",
      "u'abank : 3'\n",
      "u'bank asya : 2'\n",
      "u'anadolubank : 1'\n",
      "u'burgan bank : 1'\n",
      "u'fibabanka : 1'\n",
      "u'odeabank : 1'\n",
      "u't-bank : 1'\n",
      "u'tekstilbank : 1'\n",
      "u't\\xfcrkiye finans kat\\u0131l\\u0131m bankas\\u0131 : 1'\n"
     ]
    }
   ],
   "source": [
    "count_cursor = con.execute(\"select banks.name as name, count(branches.id) as c from branches inner join banks on banks.id = branches.bank_id group by banks.name order by c DESC;\")\n",
    "\n",
    "for row in count_cursor:\n",
    "    pprint.pprint(convert_unicode_if_not(row[0]) + \" : \" + str(row[1]))"
   ]
  },
  {
   "cell_type": "code",
   "execution_count": 401,
   "metadata": {
    "collapsed": false
   },
   "outputs": [
    {
     "name": "stdout",
     "output_type": "stream",
     "text": [
      "u'i\\u015f bankas\\u0131 : 23'\n",
      "u'akbank : 15'\n",
      "u'halkbank : 12'\n",
      "u'ziraat bankas\\u0131 : 12'\n",
      "u'garanti bankas\\u0131 : 11'\n",
      "u'qnb finansbank : 8'\n",
      "u'yap\\u0131 kredi : 8'\n",
      "u'vak\\u0131fbank : 7'\n",
      "u'ingbank : 5'\n",
      "u'denizbank : 4'\n",
      "u'bank asya : 2'\n",
      "u'hsbc : 1'\n",
      "u'kuveyt t\\xfcrk : 1'\n",
      "u'teb : 1'\n"
     ]
    }
   ],
   "source": [
    "count_cursor = con.execute(\"select banks.name as name, count(atms.id) as c from atms inner join banks on banks.id = atms.bank_id group by banks.name order by c DESC;\")\n",
    "\n",
    "for row in count_cursor:\n",
    "    pprint.pprint(convert_unicode_if_not(row[0]) + \" : \" + str(row[1]))"
   ]
  },
  {
   "cell_type": "markdown",
   "metadata": {},
   "source": [
    "## Data Overview and Additional Ideas\n",
    "\n",
    "This section includes basic statistics about the dataset, and some additional ideas about data in context.\n",
    "\n",
    "### Contributer Analysis\n",
    "\n",
    "The contributor with id 1386706 is the most contributed user for different banks. Openmaps dataset has limited contributers for banks in Ankara.\n",
    "\n"
   ]
  },
  {
   "cell_type": "code",
   "execution_count": 409,
   "metadata": {
    "collapsed": false
   },
   "outputs": [
    {
     "name": "stdout",
     "output_type": "stream",
     "text": [
      "u'i\\u015f bankas\\u0131 : 1386706 : 14'\n",
      "u'akbank : 1386706 : 11'\n",
      "u'ziraat bankas\\u0131 : 1386706 : 8'\n",
      "u'garanti bankas\\u0131 : 1386706 : 6'\n",
      "u'halkbank : 1386706 : 6'\n",
      "u'yap\\u0131 kredi : 1386706 : 5'\n",
      "u'qnb finansbank : 1386706 : 4'\n",
      "u'denizbank : 1386706 : 3'\n",
      "u'vak\\u0131fbank : 1386706 : 3'\n",
      "u'bank asya : 3442773 : 2'\n",
      "u'garanti bankas\\u0131 : 1686268 : 2'\n",
      "u'garanti bankas\\u0131 : 5349861 : 2'\n",
      "u'halkbank : 5349861 : 2'\n",
      "u'ingbank : 1386706 : 2'\n",
      "u'i\\u015f bankas\\u0131 : 5349861 : 2'\n",
      "u'qnb finansbank : 3755317 : 2'\n",
      "u'ziraat bankas\\u0131 : 436145 : 2'\n",
      "u'akbank : 436145 : 1'\n",
      "u'akbank : 689014 : 1'\n",
      "u'akbank : 3755317 : 1'\n",
      "u'akbank : 5349861 : 1'\n",
      "u'denizbank : 5349861 : 1'\n",
      "u'garanti bankas\\u0131 : 689014 : 1'\n",
      "u'halkbank : 689014 : 1'\n",
      "u'halkbank : 3154081 : 1'\n",
      "u'halkbank : 3755317 : 1'\n",
      "u'halkbank : 4594899 : 1'\n",
      "u'hsbc : 689014 : 1'\n",
      "u'ingbank : 689014 : 1'\n",
      "u'ingbank : 3755317 : 1'\n",
      "u'ingbank : 5349861 : 1'\n",
      "u'i\\u015f bankas\\u0131 : 436145 : 1'\n",
      "u'i\\u015f bankas\\u0131 : 689014 : 1'\n",
      "u'i\\u015f bankas\\u0131 : 1588706 : 1'\n",
      "u'i\\u015f bankas\\u0131 : 1592082 : 1'\n",
      "u'i\\u015f bankas\\u0131 : 1720218 : 1'\n",
      "u'i\\u015f bankas\\u0131 : 3390660 : 1'\n",
      "u'i\\u015f bankas\\u0131 : 4533191 : 1'\n",
      "u'kuveyt t\\xfcrk : 1386706 : 1'\n",
      "u'qnb finansbank : 689014 : 1'\n",
      "u'qnb finansbank : 1720218 : 1'\n",
      "u'teb : 1386706 : 1'\n",
      "u'vak\\u0131fbank : 11395 : 1'\n",
      "u'vak\\u0131fbank : 584117 : 1'\n",
      "u'vak\\u0131fbank : 3390660 : 1'\n",
      "u'vak\\u0131fbank : 5349861 : 1'\n",
      "u'yap\\u0131 kredi : 136178 : 1'\n",
      "u'yap\\u0131 kredi : 689014 : 1'\n",
      "u'yap\\u0131 kredi : 5349861 : 1'\n",
      "u'ziraat bankas\\u0131 : 3755317 : 1'\n",
      "u'ziraat bankas\\u0131 : 4514088 : 1'\n"
     ]
    }
   ],
   "source": [
    "count_cursor = con.execute(\"select banks.name as bank, atms.uid as contributer_id, count(atms.id) as c from atms inner join banks on banks.id = atms.bank_id group by banks.name, atms.uid order by c DESC;\")\n",
    "\n",
    "for row in count_cursor:\n",
    "    pprint.pprint(convert_unicode_if_not(row[0]) + \" : \" + str(row[1]) + \" : \" + str(row[2]) )"
   ]
  },
  {
   "cell_type": "markdown",
   "metadata": {},
   "source": [
    "## Conclusion\n",
    "\n",
    "\n",
    "This review of the data shows that the openmaps dataset for Ankara is inclomplete since there are a few records of branches and ATMs. This might caused by the limited set of contributers in this context. \n",
    "\n"
   ]
  }
 ],
 "metadata": {
  "kernelspec": {
   "display_name": "Python 2",
   "language": "python",
   "name": "python2"
  },
  "language_info": {
   "codemirror_mode": {
    "name": "ipython",
    "version": 2
   },
   "file_extension": ".py",
   "mimetype": "text/x-python",
   "name": "python",
   "nbconvert_exporter": "python",
   "pygments_lexer": "ipython2",
   "version": "2.7.13"
  }
 },
 "nbformat": 4,
 "nbformat_minor": 2
}
