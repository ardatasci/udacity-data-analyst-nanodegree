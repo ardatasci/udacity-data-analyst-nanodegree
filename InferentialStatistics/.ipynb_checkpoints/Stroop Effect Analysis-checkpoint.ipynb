{
 "cells": [
  {
   "cell_type": "markdown",
   "metadata": {},
   "source": [
    "# h1. Stroop Effect Analysis\n",
    "\n",
    "## Background Information\n",
    "\n",
    "In a Stroop task, participants are presented with a list of words, with each word displayed in a color of ink. The participant’s task is to say out loud the color of the ink in which the word is printed. The task has two conditions: a congruent words condition, and an incongruent words condition. In the congruent words condition, the words being displayed are color words whose names match the colors in which they are printed: for example RED, BLUE. In the incongruent words condition, the words displayed are color words whose names do not match the colors in which they are printed: for example PURPLE, ORANGE. In each case, we measure the time it takes to name the ink colors in equally-sized lists. Each participant will go through and record a time from each condition.\n",
    "\n",
    "\n",
    "## Analysis\n",
    "\n",
    "\n",
    "### 1. What is our independent variable? What is our dependent variable?\n",
    "\n",
    "The independent data in this experiment result is the word printed with ink and the dependent data is the time it takes for a participant to name the ink color of those words.\n",
    "\n",
    "\n",
    "### 2. What is an appropriate set of hypotheses for this task? What kind of statistical test do you expect to perform? Justify your choices.\n",
    "\n",
    "#### Hypothesis\n",
    "\n",
    "The Null hypothesis in this task is : The color/word mismatch does not affect the time it takes to name the color of word. The Alternate hypothesis in this task is : The color/word mismatch increases the time it takes for a participant to name the color of word.\n",
    "\n",
    "#### Testing\n",
    "\n",
    "According to these hypothesis, the statistical test to be applied shall tell us whether the sample mean of congruent observations and the sample mean of incongruent observations are statistically different or not. Therefore, in order to test the hypothesis paired t-test would be a good choice since we have two different measurements on the same items which is each participant answered both incongruent and congruent tests so that the samples in this data is dependent. \n",
    "\n",
    "\n",
    "### 3. Report some descriptive statistics regarding this dataset. Include at least one measure of central tendency and at least one measure of variability.\n",
    "\n",
    "Below you can find descriptive statistics regarding this dataset including mean (cenral tendency) and min, max (variablity). "
   ]
  },
  {
   "cell_type": "code",
   "execution_count": 4,
   "metadata": {},
   "outputs": [
    {
     "data": {
      "text/html": [
       "<div>\n",
       "<table border=\"1\" class=\"dataframe\">\n",
       "  <thead>\n",
       "    <tr style=\"text-align: right;\">\n",
       "      <th></th>\n",
       "      <th>count</th>\n",
       "      <th>mean</th>\n",
       "      <th>std</th>\n",
       "      <th>min</th>\n",
       "      <th>25%</th>\n",
       "      <th>50%</th>\n",
       "      <th>75%</th>\n",
       "      <th>max</th>\n",
       "    </tr>\n",
       "  </thead>\n",
       "  <tbody>\n",
       "    <tr>\n",
       "      <th>Congruent</th>\n",
       "      <td>24.0</td>\n",
       "      <td>14.051125</td>\n",
       "      <td>3.559358</td>\n",
       "      <td>8.630</td>\n",
       "      <td>11.89525</td>\n",
       "      <td>14.3565</td>\n",
       "      <td>16.20075</td>\n",
       "      <td>22.328</td>\n",
       "    </tr>\n",
       "    <tr>\n",
       "      <th>Incongruent</th>\n",
       "      <td>24.0</td>\n",
       "      <td>22.015917</td>\n",
       "      <td>4.797057</td>\n",
       "      <td>15.687</td>\n",
       "      <td>18.71675</td>\n",
       "      <td>21.0175</td>\n",
       "      <td>24.05150</td>\n",
       "      <td>35.255</td>\n",
       "    </tr>\n",
       "  </tbody>\n",
       "</table>\n",
       "</div>"
      ],
      "text/plain": [
       "             count       mean       std     min       25%      50%       75%  \\\n",
       "Congruent     24.0  14.051125  3.559358   8.630  11.89525  14.3565  16.20075   \n",
       "Incongruent   24.0  22.015917  4.797057  15.687  18.71675  21.0175  24.05150   \n",
       "\n",
       "                max  \n",
       "Congruent    22.328  \n",
       "Incongruent  35.255  "
      ]
     },
     "execution_count": 4,
     "metadata": {},
     "output_type": "execute_result"
    }
   ],
   "source": [
    "import pandas as pd\n",
    "import numpy as np\n",
    "\n",
    "stroop_test = pd.read_csv(\"stroopdata.csv\")\n",
    "summary = stroop_test.describe()\n",
    "summary.transpose()"
   ]
  },
  {
   "cell_type": "markdown",
   "metadata": {},
   "source": [
    "### 4. Provide one or two visualizations that show the distribution of the sample data. Write one or two sentences noting what you observe about the plot or plots.\n",
    "\n",
    "\n",
    "In first two visualisations below you can see the distribution of the sample data congruent and incongruent respectively. The last two plots are showing the histogram.\n",
    "\n",
    "Based on those plots, Incongruent observations have outliers having values higher than 30. Both observations are positively skewed. Based on histograms, the distribution seems normal which shows that the real population distribution is close to sample distribution.\n"
   ]
  },
  {
   "cell_type": "code",
   "execution_count": 32,
   "metadata": {},
   "outputs": [
    {
     "data": {
      "image/png": "[encoded data removed]",
      "text/plain": [
       "<matplotlib.figure.Figure at 0x7f0dac889390>"
      ]
     },
     "metadata": {},
     "output_type": "display_data"
    },
    {
     "data": {
      "image/png": "[encoded data removed]",
      "text/plain": [
       "<matplotlib.figure.Figure at 0x7f0dad3b2790>"
      ]
     },
     "metadata": {},
     "output_type": "display_data"
    }
   ],
   "source": [
    "%matplotlib inline\n",
    "import matplotlib.pyplot as plt\n",
    "\n",
    "fig = plt.figure()\n",
    "\n",
    "ax1 = fig.add_subplot(211)\n",
    "ax1.boxplot(stroop_test[\"Congruent\"])\n",
    "\n",
    "ax2 = fig.add_subplot(212)\n",
    "ax2.boxplot(stroop_test[\"Incongruent\"])\n",
    "\n",
    "stroop_test.hist(color=\"grey\")\n",
    "\n",
    "plt.show()"
   ]
  },
  {
   "cell_type": "markdown",
   "metadata": {},
   "source": [
    "### 5. Now, perform the statistical test and report your results. What is your confidence level and your critical statistic value? Do you reject the null hypothesis or fail to reject it? Come to a conclusion in terms of the experiment task. Did the results match up with your expectations?\n",
    "\n",
    "When dependent t-test is performed, t statistics value is 8.020706944109957. P-value is 4.1030005857111781e-08 in scientific notation which is close to 0.000000041030005. P-value is less than alpha value (0.005) so that I reject the Null hypothesis. Now it can be said that participants spent less time in Congruent tests with respect to Incongruent ones."
   ]
  },
  {
   "cell_type": "code",
   "execution_count": 35,
   "metadata": {},
   "outputs": [
    {
     "data": {
      "text/plain": [
       "Ttest_relResult(statistic=8.020706944109957, pvalue=4.1030005857111781e-08)"
      ]
     },
     "execution_count": 35,
     "metadata": {},
     "output_type": "execute_result"
    }
   ],
   "source": [
    "from scipy import stats\n",
    "\n",
    "stats.ttest_rel(stroop_test[\"Incongruent\"],stroop_test[\"Congruent\"])\n"
   ]
  },
  {
   "cell_type": "markdown",
   "metadata": {},
   "source": [
    "### 6. Optional: What do you think is responsible for the effects observed? Can you think of an alternative or similar task that would result in a similar effect? Some research about the problem will be helpful for thinking about these two questions!\n",
    "\n",
    "Based on some research, str"
   ]
  }
 ],
 "metadata": {
  "kernelspec": {
   "display_name": "Python 2",
   "language": "python",
   "name": "python2"
  },
  "language_info": {
   "codemirror_mode": {
    "name": "ipython",
    "version": 2
   },
   "file_extension": ".py",
   "mimetype": "text/x-python",
   "name": "python",
   "nbconvert_exporter": "python",
   "pygments_lexer": "ipython2",
   "version": "2.7.13"
  }
 },
 "nbformat": 4,
 "nbformat_minor": 2
}
